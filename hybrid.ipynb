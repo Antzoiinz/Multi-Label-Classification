{
 "cells": [
  {
   "cell_type": "code",
   "execution_count": null,
   "metadata": {},
   "outputs": [
    {
     "name": "stdout",
     "output_type": "stream",
     "text": [
      "\n",
      "Training Logistic Regression (C=2.0)...\n"
     ]
    },
    {
     "ename": "NameError",
     "evalue": "name 'X_train' is not defined",
     "output_type": "error",
     "traceback": [
      "\u001b[1;31m---------------------------------------------------------------------------\u001b[0m",
      "\u001b[1;31mNameError\u001b[0m                                 Traceback (most recent call last)",
      "Cell \u001b[1;32mIn[2], line 25\u001b[0m\n\u001b[0;32m     23\u001b[0m     \u001b[38;5;28mprint\u001b[39m(\u001b[38;5;124mf\u001b[39m\u001b[38;5;124m\"\u001b[39m\u001b[38;5;130;01m\\n\u001b[39;00m\u001b[38;5;124mTraining \u001b[39m\u001b[38;5;132;01m{\u001b[39;00mname\u001b[38;5;132;01m}\u001b[39;00m\u001b[38;5;124m...\u001b[39m\u001b[38;5;124m\"\u001b[39m)\n\u001b[0;32m     24\u001b[0m     classifier \u001b[38;5;241m=\u001b[39m OneVsRestClassifier(model)\n\u001b[1;32m---> 25\u001b[0m     classifier\u001b[38;5;241m.\u001b[39mfit(\u001b[43mX_train\u001b[49m, Y_train)\n\u001b[0;32m     26\u001b[0m     predictions[name] \u001b[38;5;241m=\u001b[39m classifier\u001b[38;5;241m.\u001b[39mpredict(X_test)\n\u001b[0;32m     28\u001b[0m \u001b[38;5;66;03m# Combine predictions\u001b[39;00m\n",
      "\u001b[1;31mNameError\u001b[0m: name 'X_train' is not defined"
     ]
    }
   ],
   "source": [
    "import pandas as pd\n",
    "from sklearn.feature_extraction.text import TfidfVectorizer\n",
    "from sklearn.preprocessing import MultiLabelBinarizer\n",
    "from sklearn.model_selection import train_test_split\n",
    "from sklearn.linear_model import LogisticRegression\n",
    "from sklearn.svm import LinearSVC\n",
    "from sklearn.naive_bayes import MultinomialNB\n",
    "from sklearn.multiclass import OneVsRestClassifier\n",
    "from sklearn.metrics import classification_report, accuracy_score, f1_score\n",
    "from scipy.sparse import csr_matrix\n",
    "import numpy as np\n",
    "\n",
    "# Charger les données\n",
    "data = pd.read_parquet(r'C:\\Users\\antoi\\OneDrive\\Documents\\IPSA\\Aero_4\\Ma412\\project\\train-00000-of-00001-b21313e511aa601a.parquet')\n",
    "\n",
    "# Prétraitement des abstracts et labels\n",
    "data['abstract'] = data['abstract'].fillna('')  # Remplacer les valeurs manquantes par des chaînes vides\n",
    "data['verified_uat_labels'] = data['verified_uat_labels'].apply(lambda x: x.tolist() if isinstance(x, (list, np.ndarray)) else [])\n",
    "\n",
    "# Liste complète des labels possibles\n",
    "all_labels = set()\n",
    "\n",
    "for labels in data['verified_uat_labels']:\n",
    "    if isinstance(labels, (list, np.ndarray)):  # Vérifier si les labels sont sous forme de liste ou tableau numpy\n",
    "        all_labels.update(labels.tolist() if isinstance(labels, np.ndarray) else labels)\n",
    "    else:\n",
    "        print(f\"Format inattendu pour les labels : {labels}\")\n",
    "\n",
    "all_possible_labels = sorted(all_labels)\n",
    "\n",
    "# MultiLabelBinarizer avec la liste complète des labels possibles\n",
    "mlb = MultiLabelBinarizer(classes=all_possible_labels)\n",
    "mlb.fit(all_possible_labels)\n",
    "\n",
    "# Transformation des labels dans les données\n",
    "Y = mlb.transform(data['verified_uat_labels'])\n",
    "\n",
    "# Diviser les données en ensembles d'entraînement et de test\n",
    "X_train_raw, X_test_raw, Y_train, Y_test = train_test_split(data['abstract'], Y, test_size=0.2, random_state=42)\n",
    "\n",
    "# Vectorisation avec TfidfVectorizer (sublinear TF)\n",
    "vectorizer = TfidfVectorizer(max_features=5000, stop_words='english', sublinear_tf=True)\n",
    "X_train = vectorizer.fit_transform(X_train_raw)\n",
    "X_test = vectorizer.transform(X_test_raw)\n",
    "\n",
    "# Définir les modèles sélectionnés\n",
    "models = {\n",
    "    \"Logistic Regression (C=2.0)\": LogisticRegression(max_iter=2000, class_weight='balanced', C=2.0),\n",
    "    \"Support Vector Machine (C=0.5)\": LinearSVC(class_weight='balanced', max_iter=2000, C=0.5),\n",
    "    \"Naive Bayes (alpha=0.5)\": MultinomialNB(alpha=0.5)\n",
    "}\n",
    "\n",
    "# Entraîner tous les modèles et obtenir les prédictions\n",
    "predictions = {}\n",
    "for name, model in models.items():\n",
    "    print(f\"\\nTraining {name}...\")\n",
    "    classifier = OneVsRestClassifier(model)\n",
    "    classifier.fit(X_train, Y_train)\n",
    "    predictions[name] = classifier.predict(X_test)\n",
    "\n",
    "# Combiner les prédictions\n",
    "print(\"\\nCombining predictions...\")\n",
    "final_predictions = csr_matrix(predictions[\"Logistic Regression (C=2.0)\"])  # Base avec Logistic Regression\n",
    "\n",
    "# Ajouter les prédictions de SVM où Logistic Regression n'a pas prédit\n",
    "final_predictions += (predictions[\"Support Vector Machine (C=0.5)\"] > final_predictions).astype(int)\n",
    "\n",
    "# Ajouter les prédictions de Naive Bayes où ni Logistic Regression ni SVM n'ont prédit\n",
    "final_predictions += (predictions[\"Naive Bayes (alpha=0.5)\"] > final_predictions).astype(int)\n",
    "\n",
    "# Évaluer les prédictions combinées\n",
    "accuracy = accuracy_score(Y_test, final_predictions)\n",
    "f1_micro = f1_score(Y_test, final_predictions, average='micro')\n",
    "f1_macro = f1_score(Y_test, final_predictions, average='macro')\n",
    "\n",
    "print(\"\\n=== Combined Model Results ===\")\n",
    "print(f\"Accuracy: {accuracy:.4f}\")\n",
    "print(f\"F1-score (micro): {f1_micro:.4f}\")\n",
    "print(f\"F1-score (macro): {f1_macro:.4f}\")\n",
    "print(\"Classification Report:\")\n",
    "print(classification_report(Y_test, final_predictions, target_names=mlb.classes_))"
   ]
  }
 ],
 "metadata": {
  "kernelspec": {
   "display_name": "Python 3",
   "language": "python",
   "name": "python3"
  },
  "language_info": {
   "codemirror_mode": {
    "name": "ipython",
    "version": 3
   },
   "file_extension": ".py",
   "mimetype": "text/x-python",
   "name": "python",
   "nbconvert_exporter": "python",
   "pygments_lexer": "ipython3",
   "version": "3.11.9"
  }
 },
 "nbformat": 4,
 "nbformat_minor": 2
}
